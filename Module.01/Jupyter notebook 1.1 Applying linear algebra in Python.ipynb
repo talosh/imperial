{
 "cells": [
  {
   "cell_type": "markdown",
   "metadata": {
    "id": "BbPBeCWzD22N"
   },
   "source": [
    "# Jupyter notebook 1.1: Applying linear algebra in Python\n",
    "\n",
    "## 1. Vectors\n",
    "\n",
    "Vectors are a fundamental concept in linear algebra, forming the foundation of vector spaces where operations such as addition and scalar multiplication are defined."
   ]
  },
  {
   "cell_type": "code",
   "execution_count": 3,
   "metadata": {
    "colab": {
     "base_uri": "https://localhost:8080/"
    },
    "id": "1CJA3N9bDXdB",
    "outputId": "45c37b84-0827-415a-95ec-2a0e3c6932bf"
   },
   "outputs": [
    {
     "name": "stdout",
     "output_type": "stream",
     "text": [
      "Addition: [5 7 9]\n",
      "Subtraction: [-3 -3 -3]\n",
      "Scalar Multiplication: [3 6 9]\n",
      "Dot Product: 32\n",
      "Cross Product: [-3  6 -3]\n"
     ]
    }
   ],
   "source": [
    "import numpy as np\n",
    "\n",
    "def vector_addition(v1, v2):\n",
    "    return np.add(v1, v2)\n",
    "\n",
    "def vector_subtraction(v1, v2):\n",
    "    return np.subtract(v1, v2)\n",
    "\n",
    "def scalar_multiplication(v, scalar):\n",
    "    return np.multiply(v, scalar)\n",
    "\n",
    "def dot_product(v1, v2):\n",
    "    return np.dot(v1, v2)\n",
    "\n",
    "def cross_product(v1, v2):\n",
    "    return np.cross(v1, v2)\n",
    "\n",
    "# Example usage\n",
    "v1 = np.array([1, 2, 3])\n",
    "v2 = np.array([4, 5, 6])\n",
    "scalar = 3\n",
    "\n",
    "print(\"Addition:\", vector_addition(v1, v2))\n",
    "print(\"Subtraction:\", vector_subtraction(v1, v2))\n",
    "print(\"Scalar Multiplication:\", scalar_multiplication(v1, scalar))\n",
    "print(\"Dot Product:\", dot_product(v1, v2))\n",
    "print(\"Cross Product:\", cross_product(v1, v2))\n"
   ]
  },
  {
   "cell_type": "markdown",
   "metadata": {
    "id": "jhI3TKPYQrmN"
   },
   "source": [
    "## 2. Matrices\n",
    "\n",
    "Matrices are two-dimensional arrays of numbers, arranged in rows and columns. They are a fundamental tool in linear algebra and play a crucial role in machine learning for representing and manipulating data. They are essential for data representation, linear transformations and efficient computations.\n"
   ]
  },
  {
   "cell_type": "code",
   "execution_count": 8,
   "metadata": {
    "colab": {
     "base_uri": "https://localhost:8080/"
    },
    "id": "rmPr_AehRhdP",
    "outputId": "e599cf29-b9d1-4958-d0f1-b8557d50daf9"
   },
   "outputs": [
    {
     "name": "stdout",
     "output_type": "stream",
     "text": [
      "Scalar: 2\n",
      "Row Vector: [1 2 3]\n",
      "Column Vector:\n",
      " [[1]\n",
      " [2]\n",
      " [3]]\n",
      "Matrix:\n",
      " [[1 2]\n",
      " [3 4]]\n"
     ]
    }
   ],
   "source": [
    "# Creating and manipulating arrays using NumPy\n",
    "scalar = np.array(2)\n",
    "row_vector = np.array([1, 2, 3])  # Row vector\n",
    "column_vector = np.array([[1], [2], [3]])  # Column vector\n",
    "matrix = np.array([[1, 2], [3, 4]])  # 2x2 Matrix\n",
    "\n",
    "# Display examples\n",
    "print(\"Scalar:\", scalar)\n",
    "print(\"Row Vector:\", row_vector)\n",
    "print(\"Column Vector:\\n\", column_vector)\n",
    "print(\"Matrix:\\n\", matrix)"
   ]
  },
  {
   "cell_type": "markdown",
   "metadata": {
    "id": "IiGeR434RpRy"
   },
   "source": [
    "## Matrix operations"
   ]
  },
  {
   "cell_type": "code",
   "execution_count": 14,
   "metadata": {
    "colab": {
     "base_uri": "https://localhost:8080/"
    },
    "id": "5mB6t00dRmIU",
    "outputId": "38c7c7e1-bdee-4672-aba9-05d3f2a60088"
   },
   "outputs": [
    {
     "name": "stdout",
     "output_type": "stream",
     "text": [
      "Scalar Multiplication:\n",
      " [[ 4  6  2]\n",
      " [ 8  0 10]]\n",
      "Matrix Multiplication:\n",
      " [[ 8 23]\n",
      " [ 4 46]]\n"
     ]
    }
   ],
   "source": [
    "A = np.array([[2, 3, 1], [4, 0, 5]])\n",
    "B = np.array([[1, 4], [2, 3], [0, 6]])\n",
    "\n",
    "# Matrix addition\n",
    "# C = A + B\n",
    "# print(\"Matrix Addition:\\n\", C)\n",
    "\n",
    "# Scalar multiplication\n",
    "scalar_mult = 2 * A\n",
    "print(\"Scalar Multiplication:\\n\", scalar_mult)\n",
    "\n",
    "#Matrix multiplication\n",
    "dot_product = np.dot(A, B)\n",
    "print(\"Matrix Multiplication:\\n\", dot_product)"
   ]
  },
  {
   "cell_type": "markdown",
   "metadata": {
    "id": "kvu6R0y_RxyN"
   },
   "source": [
    "## Dot product"
   ]
  },
  {
   "cell_type": "code",
   "execution_count": 11,
   "metadata": {
    "colab": {
     "base_uri": "https://localhost:8080/"
    },
    "id": "-sORw5gxRviO",
    "outputId": "0fe2eabb-c281-496e-9227-a0830ba7858a"
   },
   "outputs": [
    {
     "name": "stdout",
     "output_type": "stream",
     "text": [
      "Dot Product (Matrix Multiplication):\n",
      " [[19 22]\n",
      " [43 50]]\n"
     ]
    }
   ],
   "source": [
    "#Alternatively, the @ operator introduced in Python 3.5 is also used for matrix multiplication\n",
    "dot_product = A @ B\n",
    "print(\"Dot Product (Matrix Multiplication):\\n\", dot_product)\n"
   ]
  },
  {
   "cell_type": "markdown",
   "metadata": {
    "id": "-iDwWPvlB9U9"
   },
   "source": [
    "## Computing eigenvalues and eigenvectors"
   ]
  },
  {
   "cell_type": "code",
   "execution_count": 15,
   "metadata": {
    "colab": {
     "base_uri": "https://localhost:8080/"
    },
    "id": "JXkRNASVCBhJ",
    "outputId": "309c8c1f-5526-4a58-e0e1-39680195ba00"
   },
   "outputs": [
    {
     "name": "stdout",
     "output_type": "stream",
     "text": [
      "Eigenvalues:  [2. 5.]\n",
      "Eigenvectors: \n",
      " [[1.         0.31622777]\n",
      " [0.         0.9486833 ]]\n",
      "\n",
      "Verification:\n",
      "Av:  [2. 0.]\n",
      "λv:  [2. 0.]\n"
     ]
    }
   ],
   "source": [
    "import numpy as np\n",
    "\n",
    "# Define the matrix A\n",
    "A = np.array([[2, 1], [0, 5]])\n",
    "\n",
    "# Compute the eigenvalues and eigenvectors\n",
    "eigenvalues, eigenvectors = np.linalg.eig(A)\n",
    "\n",
    "print(\"Eigenvalues: \", eigenvalues)\n",
    "print(\"Eigenvectors: \\n\", eigenvectors)\n",
    "\n",
    "# Verify the relationship Av = λv for the first eigenvector\n",
    "lambda1 = eigenvalues[0]\n",
    "v1 = eigenvectors[:, 0]\n",
    "\n",
    "# Normalise the eigenvector for easier comparison\n",
    "v1_normalized = v1 / np.linalg.norm(v1)\n",
    "\n",
    "# Compute Av\n",
    "Av = np.dot(A, v1_normalized)\n",
    "\n",
    "# Compute λv\n",
    "lambda_v = lambda1 * v1_normalized\n",
    "\n",
    "print(\"\\nVerification:\")\n",
    "print(\"Av: \", Av)\n",
    "print(\"λv: \", lambda_v)\n"
   ]
  },
  {
   "cell_type": "markdown",
   "metadata": {
    "id": "mBZNlnk8HOne"
   },
   "source": [
    "## 4. Linear transformation\n",
    "\n",
    "Some basic operations of linear transformations are:\n",
    "\n",
    "- **Scaling**: multiplies each component of a vector by a scalar\n",
    "\n",
    "- **Rotation**: rotates a vector by a certain angle around the origin\n",
    "\n",
    "- **Reflection**: flips a vector across a certain axis\n",
    "\n",
    "- **Projection**: projects a vector onto another vector or a subspace\n"
   ]
  },
  {
   "cell_type": "code",
   "execution_count": null,
   "metadata": {
    "colab": {
     "base_uri": "https://localhost:8080/"
    },
    "id": "8hT1aXM2HReM",
    "outputId": "544de774-e138-4345-c4da-f21e559fad89"
   },
   "outputs": [
    {
     "name": "stdout",
     "output_type": "stream",
     "text": [
      "Original Vector: [1 2 3]\n",
      "Scaled Vector: [2 4 6]\n"
     ]
    }
   ],
   "source": [
    "import numpy as np\n",
    "\n",
    "# Original vector\n",
    "v = np.array([1, 2, 3])\n",
    "\n",
    "# Scaling factor\n",
    "scale = 2\n",
    "\n",
    "# Apply scaling transformation\n",
    "scaled_v = v * scale\n",
    "\n",
    "print(\"Original Vector:\", v)\n",
    "print(\"Scaled Vector:\", scaled_v)\n"
   ]
  },
  {
   "cell_type": "code",
   "execution_count": null,
   "metadata": {
    "colab": {
     "base_uri": "https://localhost:8080/"
    },
    "id": "EkUMhsQeHqdx",
    "outputId": "48f076d9-19d4-4a19-c754-d5eb82399300"
   },
   "outputs": [
    {
     "name": "stdout",
     "output_type": "stream",
     "text": [
      "Original Vector: [1 0]\n",
      "Rotated Vector: [6.123234e-17 1.000000e+00]\n"
     ]
    }
   ],
   "source": [
    "import numpy as np\n",
    "import math\n",
    "\n",
    "# Original vector\n",
    "v = np.array([1, 0])\n",
    "\n",
    "# Rotation angle in radians\n",
    "theta = math.pi / 2  # 90 degrees\n",
    "\n",
    "# Rotation matrix\n",
    "rotation_matrix = np.array([\n",
    "    [math.cos(theta), -math.sin(theta)],\n",
    "    [math.sin(theta), math.cos(theta)]\n",
    "])\n",
    "\n",
    "# Apply rotation transformation\n",
    "rotated_v = np.dot(rotation_matrix, v)\n",
    "\n",
    "print(\"Original Vector:\", v)\n",
    "print(\"Rotated Vector:\", rotated_v)\n"
   ]
  },
  {
   "cell_type": "code",
   "execution_count": 17,
   "metadata": {
    "colab": {
     "base_uri": "https://localhost:8080/"
    },
    "id": "KlpX8A4nHuQu",
    "outputId": "605c8e41-4b44-403c-885c-ad9b71bf1b8e"
   },
   "outputs": [
    {
     "name": "stdout",
     "output_type": "stream",
     "text": [
      "Original Vector: [3 2]\n",
      "Reflected Vector: [6. 1.]\n"
     ]
    }
   ],
   "source": [
    "import numpy as np\n",
    "\n",
    "# Original vector\n",
    "v = np.array([3, 2])\n",
    "\n",
    "# Reflection matrix (reflection across the x-axis)\n",
    "reflection_matrix = np.array([\n",
    "    [2, 0],\n",
    "    [0, 0.5]\n",
    "])\n",
    "\n",
    "# Apply reflection transformation\n",
    "reflected_v = np.dot(reflection_matrix, v)\n",
    "\n",
    "print(\"Original Vector:\", v)\n",
    "print(\"Reflected Vector:\", reflected_v)\n"
   ]
  },
  {
   "cell_type": "code",
   "execution_count": null,
   "metadata": {
    "colab": {
     "base_uri": "https://localhost:8080/"
    },
    "id": "w9tHt35YHznd",
    "outputId": "58cede10-c9ba-487d-ef6f-0f4444d3e3a5"
   },
   "outputs": [
    {
     "name": "stdout",
     "output_type": "stream",
     "text": [
      "Original Vector: [1 2]\n",
      "Projected Vector: [1. 0.]\n"
     ]
    }
   ],
   "source": [
    "import numpy as np\n",
    "\n",
    "# Original vector\n",
    "v = np.array([1, 2])\n",
    "\n",
    "# Vector on to which to project\n",
    "u = np.array([1, 0])\n",
    "\n",
    "# Normalise u\n",
    "u_normalized = u / np.linalg.norm(u)\n",
    "\n",
    "# Projection formula\n",
    "projected_v = np.dot(v, u_normalized) * u_normalized\n",
    "\n",
    "print(\"Original Vector:\", v)\n",
    "print(\"Projected Vector:\", projected_v)\n"
   ]
  },
  {
   "cell_type": "markdown",
   "metadata": {
    "id": "1UcHRmJmbIrs"
   },
   "source": [
    "## Singular value decomposition (SVD)"
   ]
  },
  {
   "cell_type": "code",
   "execution_count": null,
   "metadata": {
    "colab": {
     "base_uri": "https://localhost:8080/"
    },
    "id": "PmY3uyM-bICX",
    "outputId": "87f349a9-e275-4949-ebca-a41c53755958"
   },
   "outputs": [
    {
     "name": "stdout",
     "output_type": "stream",
     "text": [
      "Original Matrix A:\n",
      "[[3 1]\n",
      " [2 2]]\n",
      "\n",
      "Left Singular Matrix U:\n",
      "[[-0.74967818 -0.66180256]\n",
      " [-0.66180256  0.74967818]]\n",
      "\n",
      "Singular Values (Sigma):\n",
      "[4.13064859 0.96837093]\n",
      "\n",
      "Sigma (Diagonal Matrix of Singular Values):\n",
      "[[4.13064859 0.        ]\n",
      " [0.         0.96837093]]\n",
      "\n",
      "Right Singular Matrix V^T:\n",
      "[[-0.86491009 -0.50192682]\n",
      " [-0.50192682  0.86491009]]\n",
      "\n",
      "Reconstructed Matrix A from U, Sigma, V^T:\n",
      "[[3. 1.]\n",
      " [2. 2.]]\n"
     ]
    }
   ],
   "source": [
    "import numpy as np\n",
    "\n",
    "# Define a matrix A\n",
    "A = np.array([[3, 1],\n",
    "              [2, 2]])\n",
    "\n",
    "# Perform singular value decomposition\n",
    "U, sigma, VT = np.linalg.svd(A)\n",
    "\n",
    "# Print the results\n",
    "print(\"Original Matrix A:\")\n",
    "print(A)\n",
    "\n",
    "print(\"\\nLeft Singular Matrix U:\")\n",
    "print(U)\n",
    "\n",
    "print(\"\\nSingular Values (Sigma):\")\n",
    "print(sigma)\n",
    "\n",
    "# Sigma needs to be converted to a diagonal matrix (for dimensionality matching)\n",
    "Sigma_matrix = np.zeros_like(A, dtype=float)\n",
    "\n",
    "# Fill the diagonal with the singular values\n",
    "for i in range(len(sigma)):\n",
    "    Sigma_matrix[i, i] = sigma[i]\n",
    "\n",
    "print(\"\\nSigma (Diagonal Matrix of Singular Values):\")\n",
    "print(Sigma_matrix)\n",
    "\n",
    "print(\"\\nRight Singular Matrix V^T:\")\n",
    "print(VT)\n",
    "\n",
    "# Verify the decomposition by multiplying U, Sigma, and VT\n",
    "A_reconstructed = np.dot(U, np.dot(Sigma_matrix, VT))\n",
    "\n",
    "print(\"\\nReconstructed Matrix A from U, Sigma, V^T:\")\n",
    "print(A_reconstructed)\n"
   ]
  },
  {
   "cell_type": "code",
   "execution_count": null,
   "metadata": {
    "colab": {
     "base_uri": "https://localhost:8080/"
    },
    "id": "34qHuR59jA-z",
    "outputId": "e8664426-e618-467f-e5cb-36e6b47028b8"
   },
   "outputs": [
    {
     "name": "stdout",
     "output_type": "stream",
     "text": [
      "Manual Computation Results:\n",
      "U:\n",
      " [[ 0.707107 -0.707107]\n",
      " [ 0.707107  0.707107]]\n",
      "Σ:\n",
      " [[4. 0.]\n",
      " [0. 2.]]\n",
      "V.T:\n",
      " [[ 0.707107  0.707107]\n",
      " [-0.707107  0.707107]]\n",
      "\n",
      "Reconstructed Matrix:\n",
      " [[3. 1.]\n",
      " [1. 3.]]\n"
     ]
    }
   ],
   "source": [
    "import numpy as np\n",
    "\n",
    "# Original matrix\n",
    "A = np.array([[3, 1],\n",
    "              [1, 3]], dtype='float64')\n",
    "\n",
    "### Manual Computation ###\n",
    "# Step 1: Compute A^T A\n",
    "ATA = A.T @ A\n",
    "\n",
    "# Step 2: Eigen decomposition of A^T A\n",
    "eigenvalues, V = np.linalg.eig(ATA)\n",
    "\n",
    "# Step 3: Sort eigenvalues/vectors (descending order)\n",
    "sort_idx = np.argsort(eigenvalues)[::-1]\n",
    "eigenvalues = eigenvalues[sort_idx]\n",
    "V = V[:, sort_idx]\n",
    "\n",
    "# Step 4: Compute the singular values and Σ matrix\n",
    "sigma = np.sqrt(eigenvalues)\n",
    "Sigma = np.diag(sigma)\n",
    "\n",
    "# Step 5: Compute U matrix\n",
    "U = np.zeros_like(A)\n",
    "for i in range(V.shape[1]):\n",
    "    U[:, i] = (A @ V[:, i]) / sigma[i]\n",
    "\n",
    "### Verification ###\n",
    "# Reconstruct A from the components\n",
    "A_reconstructed = U @ Sigma @ V.T\n",
    "\n",
    "# Compare it with NumPy's built-in SVD\n",
    "U_np, S_np, VT_np = np.linalg.svd(A)\n",
    "\n",
    "print(\"Manual Computation Results:\")\n",
    "print(\"U:\\n\", U.round(6))\n",
    "print(\"Σ:\\n\", Sigma.round(6))\n",
    "print(\"V.T:\\n\", V.T.round(6))\n",
    "print(\"\\nReconstructed Matrix:\\n\", A_reconstructed.round(6))\n",
    "#print(\"\\nNumPy SVD Results:\")\n",
    "#print(\"U:\\n\", U_np.round(6))\n",
    "#print(\"Σ:\\n\", np.diag(S_np).round(6))\n",
    "#print(\"V.T:\\n\", VT_np.round(6))\n"
   ]
  },
  {
   "cell_type": "markdown",
   "metadata": {
    "id": "pXlAzncQ0rh0"
   },
   "source": [
    "## LU decomposition"
   ]
  },
  {
   "cell_type": "code",
   "execution_count": null,
   "metadata": {
    "colab": {
     "base_uri": "https://localhost:8080/"
    },
    "id": "EHrWpXKYwqPH",
    "outputId": "15a07329-43da-4f15-f755-37ce7f72d760"
   },
   "outputs": [
    {
     "name": "stdout",
     "output_type": "stream",
     "text": [
      "Matrix A:\n",
      "[[ 4 12]\n",
      " [ 6 26]]\n",
      "\n",
      "Lower Triangular Matrix L:\n",
      "[[1.  0. ]\n",
      " [1.5 1. ]]\n",
      "\n",
      "Upper Triangular Matrix U:\n",
      "[[ 4. 12.]\n",
      " [ 0.  8.]]\n"
     ]
    }
   ],
   "source": [
    "import numpy as np\n",
    "\n",
    "def lu_decomposition(matrix):\n",
    "    # Check whether the matrix is invertible\n",
    "    if np.linalg.det(matrix) == 0:\n",
    "        raise ValueError(\"Matrix is not invertible.\")\n",
    "\n",
    "    # Extract elements of the matrix\n",
    "    a, b = matrix[0, :]\n",
    "    c, d = matrix[1, :]\n",
    "\n",
    "    # Calculate elements of L and U\n",
    "    l11, l21, l22 = 1, c / a, 1\n",
    "    u11, u12, u22 = a, b, d - (c * b) / a\n",
    "\n",
    "    # Construct the L and U matrices\n",
    "    L = np.array([[l11, 0], [l21, l22]])\n",
    "    U = np.array([[u11, u12], [0, u22]])\n",
    "\n",
    "    return L, U\n",
    "\n",
    "# Example usage\n",
    "matrix = np.array([, 12], [6, 26]])\n",
    "try:\n",
    "    L, U = lu_decomposition(matrix)\n",
    "    print(\"Matrix A:\")\n",
    "    print(matrix)\n",
    "    print(\"\\nLower Triangular Matrix L:\")\n",
    "    print(L)\n",
    "    print(\"\\nUpper Triangular Matrix U:\")\n",
    "    print(U)\n",
    "except ValueError as e:\n",
    "    print(e)\n"
   ]
  }
 ],
 "metadata": {
  "colab": {
   "provenance": []
  },
  "kernelspec": {
   "display_name": "appenv",
   "language": "python",
   "name": "python3"
  },
  "language_info": {
   "codemirror_mode": {
    "name": "ipython",
    "version": 3
   },
   "file_extension": ".py",
   "mimetype": "text/x-python",
   "name": "python",
   "nbconvert_exporter": "python",
   "pygments_lexer": "ipython3",
   "version": "3.11.13"
  }
 },
 "nbformat": 4,
 "nbformat_minor": 4
}
